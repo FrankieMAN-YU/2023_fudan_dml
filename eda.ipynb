{
 "cells": [
  {
   "cell_type": "code",
   "execution_count": 36,
   "id": "fad34f64-9c56-4b27-bd2f-bde609dab08d",
   "metadata": {},
   "outputs": [],
   "source": [
    "import json\n",
    "from glob import glob\n",
    "from tqdm import tqdm\n",
    "import pandas as pd\n",
    "import numpy as np\n",
    "from random import shuffle\n",
    "import shutil\n",
    "import cv2\n",
    "import yaml"
   ]
  },
  {
   "cell_type": "code",
   "execution_count": 13,
   "id": "d4927ab0-56d2-4d3f-89cf-7998edd32ee3",
   "metadata": {},
   "outputs": [],
   "source": [
    "video_list = glob(\"./train/*\")\n",
    "shuffle(video_list)\n",
    "train_v = video_list[:120]\n",
    "valid_v = video_list[120:]\n",
    "labels = [\"UAV\"]\n",
    "labels2id = {\n",
    "    \"UAV\": 0,\n",
    "}"
   ]
  },
  {
   "cell_type": "code",
   "execution_count": 34,
   "id": "bf84e3f8-73f1-42dd-8989-fac2696a5fc7",
   "metadata": {},
   "outputs": [
    {
     "name": "stderr",
     "output_type": "stream",
     "text": [
      "100%|██████████| 120/120 [04:02<00:00,  2.02s/it]\n"
     ]
    }
   ],
   "source": [
    "!rm -rf ./yolo_datasets/\n",
    "!mkdir ./yolo_datasets/\n",
    "!mkdir ./yolo_datasets/images\n",
    "!mkdir ./yolo_datasets/labels\n",
    "!mkdir ./yolo_datasets/images/train\n",
    "!mkdir ./yolo_datasets/images/valid\n",
    "!mkdir ./yolo_datasets/labels/train\n",
    "!mkdir ./yolo_datasets/labels/valid\n",
    "\n",
    "for video_path in tqdm(train_v):\n",
    "    video_name = video_path.split('/')[-1]\n",
    "    json_path = video_path + \"/IR_label.json\"\n",
    "    with open(json_path, 'r') as f:\n",
    "        js = json.load(f)\n",
    "        image_id = 1\n",
    "        for is_exist, bbox in zip(js['exist'], js['gt_rect']):\n",
    "            image_name = \"{:0>6}\".format(image_id)\n",
    "            shutil.copyfile(video_path + \"/\" + image_name + \".jpg\", f\"./yolo_datasets/images/train/{video_name}_{image_name}.jpg\")\n",
    "            with open(f\"./yolo_datasets/labels/train/{video_name}_{image_name}.txt\", 'w') as af:\n",
    "                if ( is_exist == 1 ):\n",
    "                    img = cv2.imread(video_path + \"/\" + image_name + \".jpg\")\n",
    "                    height, width, channel = img.shape\n",
    "                    # x y w h\n",
    "                    # class x_center, y_center, w, h\n",
    "                    x_center = (int(bbox[0]) + int(bbox[2]) / 2) / width\n",
    "                    y_center = (int(bbox[1]) + int(bbox[3]) / 2) / height\n",
    "                    w = int(bbox[2]) / width\n",
    "                    h = int(bbox[3]) / height\n",
    "                    af.write(f\"{0} {x_center} {y_center} {w} {h}\\n\")\n",
    "            image_id += 1\n"
   ]
  },
  {
   "cell_type": "code",
   "execution_count": 35,
   "id": "36d757dd-108f-4bf6-bfc4-b3e9fbb829f2",
   "metadata": {},
   "outputs": [
    {
     "name": "stderr",
     "output_type": "stream",
     "text": [
      "100%|██████████| 30/30 [00:58<00:00,  1.94s/it]\n"
     ]
    }
   ],
   "source": [
    "for video_path in tqdm(valid_v):\n",
    "    video_name = video_path.split('/')[-1]\n",
    "    json_path = video_path + \"/IR_label.json\"\n",
    "    with open(json_path, 'r') as f:\n",
    "        js = json.load(f)\n",
    "        image_id = 1\n",
    "        for is_exist, bbox in zip(js['exist'], js['gt_rect']):\n",
    "            image_name = \"{:0>6}\".format(image_id)\n",
    "            shutil.copyfile(video_path + \"/\" + image_name + \".jpg\", f\"./yolo_datasets/images/valid/{video_name}_{image_name}.jpg\")\n",
    "            with open(f\"./yolo_datasets/labels/valid/{video_name}_{image_name}.txt\", 'w') as af:\n",
    "                if ( is_exist == 1 ):\n",
    "                    img = cv2.imread(video_path + \"/\" + image_name + \".jpg\")\n",
    "                    height, width, channel = img.shape\n",
    "                    # x y w h\n",
    "                    # class x_center, y_center, w, h\n",
    "                    x_center = (int(bbox[0]) + int(bbox[2]) / 2) / width\n",
    "                    y_center = (int(bbox[1]) + int(bbox[3]) / 2) / height\n",
    "                    w = int(bbox[2]) / width\n",
    "                    h = int(bbox[3]) / height\n",
    "                    af.write(f\"{0} {x_center} {y_center} {w} {h}\\n\")\n",
    "            image_id += 1"
   ]
  },
  {
   "cell_type": "code",
   "execution_count": 37,
   "id": "703c06cf-7bb0-4d01-abfd-fe8da3f676c6",
   "metadata": {},
   "outputs": [],
   "source": [
    "data = dict(\n",
    "    train = '/home/frankie/yolo_datasets/images/train',\n",
    "    val = '/home/frankie/yolo_datasets/images/valid',\n",
    "    nc    = 1, # number of classes\n",
    "    names = [\"UAV\"] # classes\n",
    ")\n",
    "\n",
    "with open('./yolo_datasets/data.yaml', 'w') as outfile:\n",
    "    yaml.dump(data, outfile, default_flow_style=False)\n",
    "\n"
   ]
  },
  {
   "cell_type": "code",
   "execution_count": null,
   "id": "6b4273a4-4512-49ea-9e46-95a776fa2cb5",
   "metadata": {},
   "outputs": [],
   "source": []
  }
 ],
 "metadata": {
  "kernelspec": {
   "display_name": "Python 3 (ipykernel)",
   "language": "python",
   "name": "python3"
  },
  "language_info": {
   "codemirror_mode": {
    "name": "ipython",
    "version": 3
   },
   "file_extension": ".py",
   "mimetype": "text/x-python",
   "name": "python",
   "nbconvert_exporter": "python",
   "pygments_lexer": "ipython3",
   "version": "3.8.13"
  }
 },
 "nbformat": 4,
 "nbformat_minor": 5
}
